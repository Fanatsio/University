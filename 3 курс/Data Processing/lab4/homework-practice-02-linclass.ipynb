{
 "cells": [
  {
   "cell_type": "markdown",
   "metadata": {},
   "source": [
    "# Машинное обучение, ФКН ВШЭ\n",
    "\n",
    "# Практическое задание 2\n",
    "\n",
    "## Общая информация\n",
    "\n",
    "Срок сдачи: 18.11.2023 14:40\n",
    "\n",
    "### О задании\n",
    "На сайтах для поиска работы можно найти сотни тысяч объявлений, каждое из которых состоит из пространного описания вакансии и предлагаемой зарплаты. Есть ли связь между описанием и зарплатой? Существуют ли определенные слова, которые наиболее сильно характеризуют зарплату? Можно ли найти другие информативные факторы? Вам предстоит ответить на эти вопросы, проанализировав выборку объявлений о работе в Великобритании.\n",
    "\n",
    "Практическое задание 2 посвящено работе с текстовыми данными и категориальными признаками и задачам бинарной классификации. Вы научитесь:\n",
    " * работать с категориальными признаками;\n",
    " * строить вещественные представления текстовых данных;\n",
    " * обучать и строить прогнозы линейных классификаторов при помощи scikit-learn и Vowpal Wabbit;\n",
    " * тестировать модели и проводить оценку качества в задачах бинарной классификации.\n",
    "\n",
    "\n",
    "### Оценивание и штрафы\n",
    "\n",
    "Каждая из задач имеет определенную «стоимость» (указана в скобках около задачи). Максимально допустимая оценка за работу — 10 баллов. Кроме того, некоторые из заданий являются опциональными (необязательными), однако за их выполнение можно получить дополнительные баллы.\n",
    "\n",
    "Сдавать задание после указанного срока сдачи нельзя. При выставлении неполного балла за задание в связи с наличием ошибок на усмотрение проверяющего предусмотрена возможность исправить работу на указанных в ответном письме условиях.\n",
    "\n",
    "Задание выполняется самостоятельно. «Похожие» решения считаются плагиатом и все задействованные студенты (в том числе те, у кого списали) не могут получить за него больше 0 баллов. Если вы нашли решение какого-то из заданий (или его часть) в открытом источнике, необходимо указать ссылку на этот источник в отдельном блоке в конце Вашей работы (скорее всего вы будете не единственным, кто это нашел, поэтому чтобы исключить подозрение в плагиате, необходима ссылка на источник). \n",
    "\n",
    "Неэффективная реализация кода может негативно отразиться на оценке.\n",
    "\n",
    "### Формат сдачи\n",
    "Для сдачи задания переименуйте получившийся файл \\*.ipynb в соответствии со следующим форматом: *HW1_Username.ipynb*, где *Username* — Ваша фамилия и инициалы на латинице (например, *HW1_IvanovII.ipynb*). Далее отправьте этот файл на bobrovskaya_op@surgu.ru или Smorodinov-1990@mail.ru."
   ]
  },
  {
   "cell_type": "markdown",
   "metadata": {},
   "source": [
    "## Данные\n",
    "\n",
    "Как было упомянуто ранее, в рамках данного задания мы будем решать задачу бинарной классификации для предсказания уровня заработной платы по тексту объявления о вакансии на примере набора данных с соревнования [Adzuna - Job Salary Prediction](https://www.kaggle.com/c/job-salary-prediction). Для начала пройдите по [ссылке](https://www.kaggle.com/c/job-salary-prediction/data) и скачайте файл Train_rev1 (при необходимости, зарегистрируйтесь на Kaggle).\n",
    "\n",
    "Посмотрим на данные в файле и загрузим их в DataFrame:"
   ]
  },
  {
   "cell_type": "code",
   "execution_count": 60,
   "metadata": {
    "collapsed": false,
    "ExecuteTime": {
     "end_time": "2023-10-30T11:20:09.027367800Z",
     "start_time": "2023-10-30T11:20:08.979966600Z"
    }
   },
   "outputs": [
    {
     "name": "stdout",
     "output_type": "stream",
     "text": [
      "%pylab is deprecated, use %matplotlib inline and import the required libraries.\n",
      "Populating the interactive namespace from numpy and matplotlib\n"
     ]
    },
    {
     "name": "stderr",
     "output_type": "stream",
     "text": [
      "C:\\Users\\Hetsu\\Desktop\\Python\\venv311\\Lib\\site-packages\\IPython\\core\\magics\\pylab.py:162: UserWarning: pylab import has clobbered these variables: ['median']\n",
      "`%matplotlib` prevents importing * from pylab and numpy\n",
      "  warn(\"pylab import has clobbered these variables: %s\"  % clobbered +\n"
     ]
    }
   ],
   "source": [
    "%pylab inline\n",
    "\n",
    "import pandas as pd"
   ]
  },
  {
   "cell_type": "code",
   "execution_count": 61,
   "metadata": {
    "collapsed": false,
    "scrolled": false,
    "ExecuteTime": {
     "end_time": "2023-10-30T11:20:10.701729500Z",
     "start_time": "2023-10-30T11:20:10.516104700Z"
    }
   },
   "outputs": [
    {
     "name": "stderr",
     "output_type": "stream",
     "text": [
      "\"head\" ­Ґ пў«пҐвбп ў­гваҐ­­Ґ© Ё«Ё ў­Ґи­Ґ©\n",
      "Є®¬ ­¤®©, ЁбЇ®«­пҐ¬®© Їа®Ја ¬¬®© Ё«Ё Ї ЄҐв­л¬ д ©«®¬.\n"
     ]
    }
   ],
   "source": [
    "# print first 2 rows from Train_rev1.csv\n",
    "!head -n 2 Train_rev1.csv"
   ]
  },
  {
   "cell_type": "code",
   "execution_count": 62,
   "metadata": {
    "collapsed": false,
    "ExecuteTime": {
     "end_time": "2023-10-30T11:20:18.121854900Z",
     "start_time": "2023-10-30T11:20:11.514713100Z"
    }
   },
   "outputs": [
    {
     "name": "stdout",
     "output_type": "stream",
     "text": [
      "(244768, 12)\n"
     ]
    },
    {
     "data": {
      "text/plain": "         Id                                              Title  \\\n0  12612628                        Engineering Systems Analyst   \n1  12612830                            Stress Engineer Glasgow   \n2  12612844                   Modelling and simulation analyst   \n3  12613049  Engineering Systems Analyst / Mathematical Mod...   \n4  12613647         Pioneer, Miser Engineering Systems Analyst   \n\n                                     FullDescription  \\\n0  Engineering Systems Analyst Dorking Surrey Sal...   \n1  Stress Engineer Glasgow Salary **** to **** We...   \n2  Mathematical Modeller / Simulation Analyst / O...   \n3  Engineering Systems Analyst / Mathematical Mod...   \n4  Pioneer, Miser  Engineering Systems Analyst Do...   \n\n                         LocationRaw LocationNormalized ContractType  \\\n0            Dorking, Surrey, Surrey            Dorking          NaN   \n1        Glasgow, Scotland, Scotland            Glasgow          NaN   \n2  Hampshire, South East, South East          Hampshire          NaN   \n3     Surrey, South East, South East             Surrey          NaN   \n4     Surrey, South East, South East             Surrey          NaN   \n\n  ContractTime                       Company          Category  \\\n0    permanent  Gregory Martin International  Engineering Jobs   \n1    permanent  Gregory Martin International  Engineering Jobs   \n2    permanent  Gregory Martin International  Engineering Jobs   \n3    permanent  Gregory Martin International  Engineering Jobs   \n4    permanent  Gregory Martin International  Engineering Jobs   \n\n                                SalaryRaw  SalaryNormalized        SourceName  \n0              20000 - 30000/annum 20-30K             25000  cv-library.co.uk  \n1              25000 - 35000/annum 25-35K             30000  cv-library.co.uk  \n2              20000 - 40000/annum 20-40K             30000  cv-library.co.uk  \n3  25000 - 30000/annum 25K-30K negotiable             27500  cv-library.co.uk  \n4              20000 - 30000/annum 20-30K             25000  cv-library.co.uk  ",
      "text/html": "<div>\n<style scoped>\n    .dataframe tbody tr th:only-of-type {\n        vertical-align: middle;\n    }\n\n    .dataframe tbody tr th {\n        vertical-align: top;\n    }\n\n    .dataframe thead th {\n        text-align: right;\n    }\n</style>\n<table border=\"1\" class=\"dataframe\">\n  <thead>\n    <tr style=\"text-align: right;\">\n      <th></th>\n      <th>Id</th>\n      <th>Title</th>\n      <th>FullDescription</th>\n      <th>LocationRaw</th>\n      <th>LocationNormalized</th>\n      <th>ContractType</th>\n      <th>ContractTime</th>\n      <th>Company</th>\n      <th>Category</th>\n      <th>SalaryRaw</th>\n      <th>SalaryNormalized</th>\n      <th>SourceName</th>\n    </tr>\n  </thead>\n  <tbody>\n    <tr>\n      <th>0</th>\n      <td>12612628</td>\n      <td>Engineering Systems Analyst</td>\n      <td>Engineering Systems Analyst Dorking Surrey Sal...</td>\n      <td>Dorking, Surrey, Surrey</td>\n      <td>Dorking</td>\n      <td>NaN</td>\n      <td>permanent</td>\n      <td>Gregory Martin International</td>\n      <td>Engineering Jobs</td>\n      <td>20000 - 30000/annum 20-30K</td>\n      <td>25000</td>\n      <td>cv-library.co.uk</td>\n    </tr>\n    <tr>\n      <th>1</th>\n      <td>12612830</td>\n      <td>Stress Engineer Glasgow</td>\n      <td>Stress Engineer Glasgow Salary **** to **** We...</td>\n      <td>Glasgow, Scotland, Scotland</td>\n      <td>Glasgow</td>\n      <td>NaN</td>\n      <td>permanent</td>\n      <td>Gregory Martin International</td>\n      <td>Engineering Jobs</td>\n      <td>25000 - 35000/annum 25-35K</td>\n      <td>30000</td>\n      <td>cv-library.co.uk</td>\n    </tr>\n    <tr>\n      <th>2</th>\n      <td>12612844</td>\n      <td>Modelling and simulation analyst</td>\n      <td>Mathematical Modeller / Simulation Analyst / O...</td>\n      <td>Hampshire, South East, South East</td>\n      <td>Hampshire</td>\n      <td>NaN</td>\n      <td>permanent</td>\n      <td>Gregory Martin International</td>\n      <td>Engineering Jobs</td>\n      <td>20000 - 40000/annum 20-40K</td>\n      <td>30000</td>\n      <td>cv-library.co.uk</td>\n    </tr>\n    <tr>\n      <th>3</th>\n      <td>12613049</td>\n      <td>Engineering Systems Analyst / Mathematical Mod...</td>\n      <td>Engineering Systems Analyst / Mathematical Mod...</td>\n      <td>Surrey, South East, South East</td>\n      <td>Surrey</td>\n      <td>NaN</td>\n      <td>permanent</td>\n      <td>Gregory Martin International</td>\n      <td>Engineering Jobs</td>\n      <td>25000 - 30000/annum 25K-30K negotiable</td>\n      <td>27500</td>\n      <td>cv-library.co.uk</td>\n    </tr>\n    <tr>\n      <th>4</th>\n      <td>12613647</td>\n      <td>Pioneer, Miser Engineering Systems Analyst</td>\n      <td>Pioneer, Miser  Engineering Systems Analyst Do...</td>\n      <td>Surrey, South East, South East</td>\n      <td>Surrey</td>\n      <td>NaN</td>\n      <td>permanent</td>\n      <td>Gregory Martin International</td>\n      <td>Engineering Jobs</td>\n      <td>20000 - 30000/annum 20-30K</td>\n      <td>25000</td>\n      <td>cv-library.co.uk</td>\n    </tr>\n  </tbody>\n</table>\n</div>"
     },
     "execution_count": 62,
     "metadata": {},
     "output_type": "execute_result"
    }
   ],
   "source": [
    "df = pd.read_csv('Train_rev1.csv', sep=',')\n",
    "print(df.shape)\n",
    "df.head()"
   ]
  },
  {
   "cell_type": "markdown",
   "metadata": {},
   "source": [
    "В оригинальной постановке предлагается рассматривать признак SalaryNormalized как целевой и решать задачу регрессии, однако в рамках данного задания мы сведём её к задаче бинарной классификации, разделив объекты на 2 группы: объявления о вакансиях с низкой и высокой зарплатами соответственно.\n",
    "\n",
    "<img src = \"http://salt.uaa.alaska.edu/kath/kti/mean_median2.gif\">\n",
    "\n",
    "В качестве порога разбиения объектов на группы будем рассматривать медиану признака SalaryNormalized. Заметим, что таким образом мы автоматически получим задачу классификации со сбалансированными классами:"
   ]
  },
  {
   "cell_type": "code",
   "execution_count": 63,
   "metadata": {
    "collapsed": false,
    "ExecuteTime": {
     "end_time": "2023-10-30T11:20:18.345890600Z",
     "start_time": "2023-10-30T11:20:18.121854900Z"
    }
   },
   "outputs": [
    {
     "data": {
      "text/plain": "<Figure size 1600x800 with 1 Axes>",
      "image/png": "[encoded data removed]"
     },
     "metadata": {},
     "output_type": "display_data"
    }
   ],
   "source": [
    "# salary histogramm\n",
    "median = np.median(df['SalaryNormalized'])\n",
    "\n",
    "figsize(16,8)\n",
    "plt.hist(df['SalaryNormalized'], bins=50)\n",
    "plt.axvline(median, c='r')\n",
    "plt.xlabel('salary', fontsize=20)\n",
    "plt.ylabel('count', fontsize=20)\n",
    "plt.grid()"
   ]
  },
  {
   "cell_type": "markdown",
   "metadata": {},
   "source": [
    "Осуществим последние шаги по подготовке датасета:\n",
    "- бинаризуем признак SalaryNomalized по описанному ранее порогу;\n",
    "- исключим из выборки признак SalaryRaw, чтобы устранить утечку целевой переменной в признаки."
   ]
  },
  {
   "cell_type": "code",
   "execution_count": 64,
   "metadata": {
    "collapsed": false,
    "ExecuteTime": {
     "end_time": "2023-10-30T11:20:18.467321200Z",
     "start_time": "2023-10-30T11:20:18.345890600Z"
    }
   },
   "outputs": [
    {
     "data": {
      "text/plain": "         Id                                              Title  \\\n0  12612628                        Engineering Systems Analyst   \n1  12612830                            Stress Engineer Glasgow   \n2  12612844                   Modelling and simulation analyst   \n3  12613049  Engineering Systems Analyst / Mathematical Mod...   \n4  12613647         Pioneer, Miser Engineering Systems Analyst   \n\n                                     FullDescription  \\\n0  Engineering Systems Analyst Dorking Surrey Sal...   \n1  Stress Engineer Glasgow Salary **** to **** We...   \n2  Mathematical Modeller / Simulation Analyst / O...   \n3  Engineering Systems Analyst / Mathematical Mod...   \n4  Pioneer, Miser  Engineering Systems Analyst Do...   \n\n                         LocationRaw LocationNormalized ContractType  \\\n0            Dorking, Surrey, Surrey            Dorking          NaN   \n1        Glasgow, Scotland, Scotland            Glasgow          NaN   \n2  Hampshire, South East, South East          Hampshire          NaN   \n3     Surrey, South East, South East             Surrey          NaN   \n4     Surrey, South East, South East             Surrey          NaN   \n\n  ContractTime                       Company          Category  \\\n0    permanent  Gregory Martin International  Engineering Jobs   \n1    permanent  Gregory Martin International  Engineering Jobs   \n2    permanent  Gregory Martin International  Engineering Jobs   \n3    permanent  Gregory Martin International  Engineering Jobs   \n4    permanent  Gregory Martin International  Engineering Jobs   \n\n   SalaryNormalized        SourceName  \n0                 0  cv-library.co.uk  \n1                 0  cv-library.co.uk  \n2                 0  cv-library.co.uk  \n3                 0  cv-library.co.uk  \n4                 0  cv-library.co.uk  ",
      "text/html": "<div>\n<style scoped>\n    .dataframe tbody tr th:only-of-type {\n        vertical-align: middle;\n    }\n\n    .dataframe tbody tr th {\n        vertical-align: top;\n    }\n\n    .dataframe thead th {\n        text-align: right;\n    }\n</style>\n<table border=\"1\" class=\"dataframe\">\n  <thead>\n    <tr style=\"text-align: right;\">\n      <th></th>\n      <th>Id</th>\n      <th>Title</th>\n      <th>FullDescription</th>\n      <th>LocationRaw</th>\n      <th>LocationNormalized</th>\n      <th>ContractType</th>\n      <th>ContractTime</th>\n      <th>Company</th>\n      <th>Category</th>\n      <th>SalaryNormalized</th>\n      <th>SourceName</th>\n    </tr>\n  </thead>\n  <tbody>\n    <tr>\n      <th>0</th>\n      <td>12612628</td>\n      <td>Engineering Systems Analyst</td>\n      <td>Engineering Systems Analyst Dorking Surrey Sal...</td>\n      <td>Dorking, Surrey, Surrey</td>\n      <td>Dorking</td>\n      <td>NaN</td>\n      <td>permanent</td>\n      <td>Gregory Martin International</td>\n      <td>Engineering Jobs</td>\n      <td>0</td>\n      <td>cv-library.co.uk</td>\n    </tr>\n    <tr>\n      <th>1</th>\n      <td>12612830</td>\n      <td>Stress Engineer Glasgow</td>\n      <td>Stress Engineer Glasgow Salary **** to **** We...</td>\n      <td>Glasgow, Scotland, Scotland</td>\n      <td>Glasgow</td>\n      <td>NaN</td>\n      <td>permanent</td>\n      <td>Gregory Martin International</td>\n      <td>Engineering Jobs</td>\n      <td>0</td>\n      <td>cv-library.co.uk</td>\n    </tr>\n    <tr>\n      <th>2</th>\n      <td>12612844</td>\n      <td>Modelling and simulation analyst</td>\n      <td>Mathematical Modeller / Simulation Analyst / O...</td>\n      <td>Hampshire, South East, South East</td>\n      <td>Hampshire</td>\n      <td>NaN</td>\n      <td>permanent</td>\n      <td>Gregory Martin International</td>\n      <td>Engineering Jobs</td>\n      <td>0</td>\n      <td>cv-library.co.uk</td>\n    </tr>\n    <tr>\n      <th>3</th>\n      <td>12613049</td>\n      <td>Engineering Systems Analyst / Mathematical Mod...</td>\n      <td>Engineering Systems Analyst / Mathematical Mod...</td>\n      <td>Surrey, South East, South East</td>\n      <td>Surrey</td>\n      <td>NaN</td>\n      <td>permanent</td>\n      <td>Gregory Martin International</td>\n      <td>Engineering Jobs</td>\n      <td>0</td>\n      <td>cv-library.co.uk</td>\n    </tr>\n    <tr>\n      <th>4</th>\n      <td>12613647</td>\n      <td>Pioneer, Miser Engineering Systems Analyst</td>\n      <td>Pioneer, Miser  Engineering Systems Analyst Do...</td>\n      <td>Surrey, South East, South East</td>\n      <td>Surrey</td>\n      <td>NaN</td>\n      <td>permanent</td>\n      <td>Gregory Martin International</td>\n      <td>Engineering Jobs</td>\n      <td>0</td>\n      <td>cv-library.co.uk</td>\n    </tr>\n  </tbody>\n</table>\n</div>"
     },
     "execution_count": 64,
     "metadata": {},
     "output_type": "execute_result"
    }
   ],
   "source": [
    "df['SalaryNormalized'] = (df['SalaryNormalized'] > median).astype(int)\n",
    "df.drop('SalaryRaw', axis=1, inplace=True)\n",
    "df.head()"
   ]
  },
  {
   "cell_type": "markdown",
   "metadata": {},
   "source": [
    "#### 1. (0 баллов) Разбейте получившуюся выборку на обучающую и контрольную в соотношении 70/30 с использованием перемешивания объектов.\n",
    "\n",
    "При разбиении используйте значение параметра random_state=42."
   ]
  },
  {
   "cell_type": "code",
   "execution_count": 65,
   "metadata": {
    "collapsed": false,
    "ExecuteTime": {
     "end_time": "2023-10-30T11:20:24.462063500Z",
     "start_time": "2023-10-30T11:20:20.547459900Z"
    }
   },
   "outputs": [],
   "source": [
    "from sklearn.model_selection import train_test_split\n",
    "\n",
    "X = df.drop('SalaryNormalized', axis=1)\n",
    "y = df['SalaryNormalized']\n",
    "\n",
    "X_train, X_test, y_train, y_test = train_test_split(X, y, test_size=0.3, random_state=42, shuffle=True)"
   ]
  },
  {
   "cell_type": "markdown",
   "metadata": {},
   "source": [
    "## Векторизация\n",
    "\n",
    "Как правило, модели, используемые в машинном обучении, применяются в предположении, что матрица \"объект-признак\" является вещественнозначной. Поэтому при работе с категориальными признаками и текстами сперва их необходимо привести к вещественному виду.\n",
    "\n",
    "Заметим, что в нашей задаче есть признаки, являющиеся текстами произвольной природы (Title, FullDescription), и категориальные признаки, принимающие ограниченное число значений (ContractType, Category и др.).\n",
    "\n",
    "Самый простой и понятный способ преобразования текстовых данных — векторизация. В этом случае для каждого слова, встречающегося в некотором набре текстов мы создаём отдельный новый признак, который будет равен $1$, когда слово встречается в заданном объекте, и $0$ – в противном случае.\n",
    "\n",
    "#### 2. (0.5 балла) Создайте текстовое описание объектов обучающей и контрольной выборок, объединив значения всех признаков каждого объекта выборки через символы пробела. После этого получите признаковое описание объектов, осуществив векторизацию получившихся текстов при помощи [CountVectorizer](http://scikit-learn.org/stable/modules/generated/sklearn.feature_extraction.text.CountVectorizer.html), обучив его на обучающей выборке и применив на контрольной."
   ]
  },
  {
   "cell_type": "code",
   "execution_count": 66,
   "metadata": {
    "collapsed": true,
    "ExecuteTime": {
     "end_time": "2023-10-30T11:21:03.166482800Z",
     "start_time": "2023-10-30T11:20:27.141065200Z"
    }
   },
   "outputs": [],
   "source": [
    "from sklearn.feature_extraction.text import CountVectorizer\n",
    "\n",
    "X_train_text = X_train.apply(lambda row: ' '.join(map(str, row)), axis=1)\n",
    "X_test_text = X_test.apply(lambda row: ' '.join(map(str, row)), axis=1)\n",
    "\n",
    "vectorizer = CountVectorizer()\n",
    "\n",
    "X_train_vectorized = vectorizer.fit_transform(X_train_text)\n",
    "X_test_vectorized = vectorizer.transform(X_test_text)"
   ]
  },
  {
   "cell_type": "markdown",
   "metadata": {},
   "source": [
    "#### 3. (1.5 балла) Обучите следующие модели на обучающей выборке:\n",
    " - [логистическую регрессию](http://scikit-learn.org/stable/modules/generated/sklearn.linear_model.LogisticRegression.html) из модуля sklearn с параметрами по умолчанию;\n",
    " - логистическую регрессию при помощи Vowpal Wabbit с параметрами по умолчанию."
   ]
  },
  {
   "cell_type": "code",
   "execution_count": 68,
   "metadata": {
    "collapsed": true,
    "ExecuteTime": {
     "end_time": "2023-10-30T11:22:04.114882700Z",
     "start_time": "2023-10-30T11:21:47.417043200Z"
    }
   },
   "outputs": [
    {
     "name": "stderr",
     "output_type": "stream",
     "text": [
      "C:\\Users\\Hetsu\\Desktop\\Python\\venv311\\Lib\\site-packages\\sklearn\\linear_model\\_logistic.py:460: ConvergenceWarning: lbfgs failed to converge (status=1):\n",
      "STOP: TOTAL NO. of ITERATIONS REACHED LIMIT.\n",
      "\n",
      "Increase the number of iterations (max_iter) or scale the data as shown in:\n",
      "    https://scikit-learn.org/stable/modules/preprocessing.html\n",
      "Please also refer to the documentation for alternative solver options:\n",
      "    https://scikit-learn.org/stable/modules/linear_model.html#logistic-regression\n",
      "  n_iter_i = _check_optimize_result(\n"
     ]
    },
    {
     "name": "stdout",
     "output_type": "stream",
     "text": [
      "Accuracy (Logistic Regression - scikit-learn): 0.8593\n"
     ]
    },
    {
     "ename": "UnicodeEncodeError",
     "evalue": "'charmap' codec can't encode character '\\u25cf' in position 1364: character maps to <undefined>",
     "output_type": "error",
     "traceback": [
      "\u001B[1;31m---------------------------------------------------------------------------\u001B[0m",
      "\u001B[1;31mUnicodeEncodeError\u001B[0m                        Traceback (most recent call last)",
      "Cell \u001B[1;32mIn[68], line 22\u001B[0m\n\u001B[0;32m     20\u001B[0m \u001B[38;5;28;01mwith\u001B[39;00m \u001B[38;5;28mopen\u001B[39m(vw_train_filename, \u001B[38;5;124m'\u001B[39m\u001B[38;5;124mw\u001B[39m\u001B[38;5;124m'\u001B[39m) \u001B[38;5;28;01mas\u001B[39;00m f_train:\n\u001B[0;32m     21\u001B[0m     \u001B[38;5;28;01mfor\u001B[39;00m label, features \u001B[38;5;129;01min\u001B[39;00m \u001B[38;5;28mzip\u001B[39m(y_train, X_train_text):\n\u001B[1;32m---> 22\u001B[0m         f_train\u001B[38;5;241m.\u001B[39mwrite(\u001B[38;5;124mf\u001B[39m\u001B[38;5;124m'\u001B[39m\u001B[38;5;132;01m{\u001B[39;00mlabel\u001B[38;5;132;01m}\u001B[39;00m\u001B[38;5;124m |text \u001B[39m\u001B[38;5;132;01m{\u001B[39;00mfeatures\u001B[38;5;132;01m}\u001B[39;00m\u001B[38;5;130;01m\\n\u001B[39;00m\u001B[38;5;124m'\u001B[39m)\n\u001B[0;32m     24\u001B[0m \u001B[38;5;28;01mwith\u001B[39;00m \u001B[38;5;28mopen\u001B[39m(vw_test_filename, \u001B[38;5;124m'\u001B[39m\u001B[38;5;124mw\u001B[39m\u001B[38;5;124m'\u001B[39m) \u001B[38;5;28;01mas\u001B[39;00m f_test:\n\u001B[0;32m     25\u001B[0m     \u001B[38;5;28;01mfor\u001B[39;00m label, features \u001B[38;5;129;01min\u001B[39;00m \u001B[38;5;28mzip\u001B[39m(y_test, X_test_text):\n",
      "File \u001B[1;32m~\\AppData\\Local\\Programs\\Python\\Python311\\Lib\\encodings\\cp1251.py:19\u001B[0m, in \u001B[0;36mIncrementalEncoder.encode\u001B[1;34m(self, input, final)\u001B[0m\n\u001B[0;32m     18\u001B[0m \u001B[38;5;28;01mdef\u001B[39;00m \u001B[38;5;21mencode\u001B[39m(\u001B[38;5;28mself\u001B[39m, \u001B[38;5;28minput\u001B[39m, final\u001B[38;5;241m=\u001B[39m\u001B[38;5;28;01mFalse\u001B[39;00m):\n\u001B[1;32m---> 19\u001B[0m     \u001B[38;5;28;01mreturn\u001B[39;00m codecs\u001B[38;5;241m.\u001B[39mcharmap_encode(\u001B[38;5;28minput\u001B[39m,\u001B[38;5;28mself\u001B[39m\u001B[38;5;241m.\u001B[39merrors,encoding_table)[\u001B[38;5;241m0\u001B[39m]\n",
      "\u001B[1;31mUnicodeEncodeError\u001B[0m: 'charmap' codec can't encode character '\\u25cf' in position 1364: character maps to <undefined>"
     ]
    }
   ],
   "source": [
    "from sklearn.linear_model import LogisticRegression\n",
    "from sklearn.metrics import accuracy_score\n",
    "\n",
    "# Инициализация и обучение логистической регрессии\n",
    "lr_sklearn = LogisticRegression()\n",
    "lr_sklearn.fit(X_train_vectorized, y_train)\n",
    "\n",
    "# Предсказание на контрольной выборке\n",
    "y_pred_sklearn = lr_sklearn.predict(X_test_vectorized)\n",
    "\n",
    "# Оценка точности\n",
    "accuracy_sklearn = accuracy_score(y_test, y_pred_sklearn)\n",
    "print(f'Accuracy (Logistic Regression - scikit-learn): {accuracy_sklearn:.4f}')\n",
    "\n",
    "# Создание файлов с данными для Vowpal Wabbit\n",
    "vw_train_filename = 'train.vw'\n",
    "vw_test_filename = 'test.vw'\n",
    "\n",
    "# Сохранение обучающей и контрольной выборок в файлы VW\n",
    "with open(vw_train_filename, 'w') as f_train:\n",
    "    for label, features in zip(y_train, X_train_text):\n",
    "        f_train.write(f'{label} |text {features}\\n')\n",
    "\n",
    "with open(vw_test_filename, 'w') as f_test:\n",
    "    for label, features in zip(y_test, X_test_text):\n",
    "        f_test.write(f'{label} |text {features}\\n')\n",
    "\n",
    "# Обучение логистической регрессии с помощью Vowpal Wabbit\n",
    "vw_command = f'vw {vw_train_filename} -f model.vw --loss_function logistic'\n",
    "!{vw_command}\n",
    "\n",
    "# Применение модели к контрольной выборке\n",
    "vw_test_command = f'vw -i model.vw -t {vw_test_filename} -p predictions.txt'\n",
    "!{vw_test_command}\n",
    "\n",
    "# Загрузка предсказаний из файла\n",
    "predictions_vw = pd.read_csv('predictions.txt', header=None, names=['Prediction'])\n",
    "\n",
    "# Оценка точности\n",
    "accuracy_vw = accuracy_score(y_test, predictions_vw.round())\n",
    "print(f'Accuracy (Logistic Regression - Vowpal Wabbit): {accuracy_vw:.4f}')\n"
   ]
  },
  {
   "cell_type": "markdown",
   "metadata": {},
   "source": [
    "#### 4. (0.5 балла) Вычислите значения ROC-AUC, [F-меры](http://scikit-learn.org/stable/modules/generated/sklearn.metrics.f1_score.html), а также постройте [матрицу ошибок](http://scikit-learn.org/stable/modules/generated/sklearn.metrics.confusion_matrix.html) для каждой из построенных в п. 3 моделей на контрольной выборке. Сравните построенные модели по качеству их работы."
   ]
  },
  {
   "cell_type": "code",
   "execution_count": 69,
   "metadata": {
    "collapsed": true,
    "ExecuteTime": {
     "end_time": "2023-10-30T11:22:09.552793900Z",
     "start_time": "2023-10-30T11:22:09.279418900Z"
    }
   },
   "outputs": [
    {
     "name": "stdout",
     "output_type": "stream",
     "text": [
      "ROC-AUC (Logistic Regression - scikit-learn): 0.9327\n",
      "F1 Score (Logistic Regression - scikit-learn): 0.8546\n"
     ]
    },
    {
     "data": {
      "text/plain": "<Figure size 800x600 with 2 Axes>",
      "image/png": "[encoded data removed]"
     },
     "metadata": {},
     "output_type": "display_data"
    },
    {
     "ename": "NameError",
     "evalue": "name 'predictions_vw' is not defined",
     "output_type": "error",
     "traceback": [
      "\u001B[1;31m---------------------------------------------------------------------------\u001B[0m",
      "\u001B[1;31mNameError\u001B[0m                                 Traceback (most recent call last)",
      "Cell \u001B[1;32mIn[69], line 23\u001B[0m\n\u001B[0;32m     20\u001B[0m plt\u001B[38;5;241m.\u001B[39mshow()\n\u001B[0;32m     22\u001B[0m \u001B[38;5;66;03m# Вычисление ROC-AUC\u001B[39;00m\n\u001B[1;32m---> 23\u001B[0m roc_auc_vw \u001B[38;5;241m=\u001B[39m roc_auc_score(y_test, \u001B[43mpredictions_vw\u001B[49m)\n\u001B[0;32m     24\u001B[0m \u001B[38;5;28mprint\u001B[39m(\u001B[38;5;124mf\u001B[39m\u001B[38;5;124m'\u001B[39m\u001B[38;5;124mROC-AUC (Logistic Regression - Vowpal Wabbit): \u001B[39m\u001B[38;5;132;01m{\u001B[39;00mroc_auc_vw\u001B[38;5;132;01m:\u001B[39;00m\u001B[38;5;124m.4f\u001B[39m\u001B[38;5;132;01m}\u001B[39;00m\u001B[38;5;124m'\u001B[39m)\n\u001B[0;32m     26\u001B[0m \u001B[38;5;66;03m# Вычисление F-меры\u001B[39;00m\n",
      "\u001B[1;31mNameError\u001B[0m: name 'predictions_vw' is not defined"
     ]
    }
   ],
   "source": [
    "from sklearn.metrics import roc_auc_score, f1_score, confusion_matrix\n",
    "import seaborn as sns\n",
    "import matplotlib.pyplot as plt\n",
    "\n",
    "# Вычисление ROC-AUC\n",
    "roc_auc_sklearn = roc_auc_score(y_test, lr_sklearn.predict_proba(X_test_vectorized)[:, 1])\n",
    "print(f'ROC-AUC (Logistic Regression - scikit-learn): {roc_auc_sklearn:.4f}')\n",
    "\n",
    "# Вычисление F-меры\n",
    "f1_sklearn = f1_score(y_test, y_pred_sklearn)\n",
    "print(f'F1 Score (Logistic Regression - scikit-learn): {f1_sklearn:.4f}')\n",
    "\n",
    "# Построение матрицы ошибок\n",
    "cm_sklearn = confusion_matrix(y_test, y_pred_sklearn)\n",
    "plt.figure(figsize=(8, 6))\n",
    "sns.heatmap(cm_sklearn, annot=True, fmt='d', cmap='Blues', annot_kws={\"size\": 16})\n",
    "plt.title('Confusion Matrix - Logistic Regression (scikit-learn)')\n",
    "plt.xlabel('Predicted')\n",
    "plt.ylabel('True')\n",
    "plt.show()\n",
    "\n",
    "# Вычисление ROC-AUC\n",
    "roc_auc_vw = roc_auc_score(y_test, predictions_vw)\n",
    "print(f'ROC-AUC (Logistic Regression - Vowpal Wabbit): {roc_auc_vw:.4f}')\n",
    "\n",
    "# Вычисление F-меры\n",
    "f1_vw = f1_score(y_test, predictions_vw.round())\n",
    "print(f'F1 Score (Logistic Regression - Vowpal Wabbit): {f1_vw:.4f}')\n",
    "\n",
    "# Построение матрицы ошибок\n",
    "cm_vw = confusion_matrix(y_test, predictions_vw.round())\n",
    "plt.figure(figsize=(8, 6))\n",
    "sns.heatmap(cm_vw, annot=True, fmt='d', cmap='Blues', annot_kws={\"size\": 16})\n",
    "plt.title('Confusion Matrix - Logistic Regression (Vowpal Wabbit)')\n",
    "plt.xlabel('Predicted')\n",
    "plt.ylabel('True')\n",
    "plt.show()\n"
   ]
  },
  {
   "cell_type": "markdown",
   "metadata": {},
   "source": [
    "#### 5. (1 балл) Отсортируйте веса признаков для модели логистической регрессии из scikit-learn, полученной в п. 2. Какие слова из встречающихся в выборке имеют наибольшее/наименьшее влияние на значение целевой переменной? Проинтерпретируйте полученный результат."
   ]
  },
  {
   "cell_type": "code",
   "execution_count": 72,
   "metadata": {
    "collapsed": true,
    "ExecuteTime": {
     "end_time": "2023-10-30T11:23:46.364795800Z",
     "start_time": "2023-10-30T11:23:45.822652200Z"
    }
   },
   "outputs": [
    {
     "name": "stdout",
     "output_type": "stream",
     "text": [
      "Top 10 features:\n",
      "            Feature  Coefficient\n",
      "279197  optometrist     1.331184\n",
      "251891    jobcentre    -1.191815\n",
      "275985          nvq    -0.859419\n",
      "260080        locum     0.812367\n",
      "323414   technojobs     0.725329\n",
      "185034    assistant    -0.723627\n",
      "325149   theladders     0.688700\n",
      "271161     myukjobs    -0.676439\n",
      "289290    principal     0.628871\n",
      "257575     lecturer     0.621751\n",
      "\n",
      "Bottom 10 features:\n",
      "                                  Feature   Coefficient\n",
      "336469                         wholesales  1.397959e-06\n",
      "240901                          higherend -1.275959e-06\n",
      "297106                        reforecasts -1.095650e-06\n",
      "226086                              exigo -8.584081e-07\n",
      "308104  seniorcommunicationsexecutive_job -7.557702e-07\n",
      "332187                        valuedriven -7.185436e-07\n",
      "246451           infonetworkmarketingjobs -6.224354e-07\n",
      "218590                      dunfermlinehs  4.359122e-07\n",
      "186028         asynclairgenesisassociates -4.008775e-07\n",
      "184976                               assi  3.970071e-07\n"
     ]
    }
   ],
   "source": [
    "# Получение весов признаков\n",
    "feature_names = vectorizer.get_feature_names_out()\n",
    "coef_values = lr_sklearn.coef_[0]\n",
    "\n",
    "# Создание DataFrame для удобства сортировки\n",
    "coef_df = pd.DataFrame({'Feature': feature_names, 'Coefficient': coef_values})\n",
    "\n",
    "# Сортировка по абсолютному значению коэффициента\n",
    "coef_df_sorted = coef_df.reindex(coef_df['Coefficient'].abs().sort_values(ascending=False).index)\n",
    "\n",
    "# Вывод первых и последних 10 значений\n",
    "top_features = coef_df_sorted.head(10)\n",
    "bottom_features = coef_df_sorted.tail(10)\n",
    "\n",
    "print(\"Top 10 features:\")\n",
    "print(top_features)\n",
    "\n",
    "print(\"\\nBottom 10 features:\")\n",
    "print(bottom_features)\n"
   ]
  },
  {
   "cell_type": "markdown",
   "metadata": {},
   "source": [
    "#### 6. (0.5 доп. балла) Отсортируйте веса признаков для модели логистической регрессии, полученной в п. 2 при помощи Vowpal Wabbit. Какие слова из встречающихся в выборке имеют наибольшее/наименьшее влияние на значение целевой переменной? Проинтерпретирйте полученный результат."
   ]
  },
  {
   "cell_type": "code",
   "execution_count": 74,
   "metadata": {
    "collapsed": true,
    "ExecuteTime": {
     "end_time": "2023-10-30T11:24:40.578986700Z",
     "start_time": "2023-10-30T11:24:40.529682400Z"
    }
   },
   "outputs": [
    {
     "name": "stdout",
     "output_type": "stream",
     "text": [
      "Top 10 features (Vowpal Wabbit):\n",
      "    Feature  Coefficient\n",
      "291   |text          1.0\n",
      "127   |text          1.0\n",
      "115   |text          1.0\n",
      "116   |text          1.0\n",
      "117   |text          1.0\n",
      "225   |text          1.0\n",
      "224   |text          1.0\n",
      "121   |text          1.0\n",
      "221   |text          1.0\n",
      "218   |text          1.0\n",
      "\n",
      "Bottom 10 features (Vowpal Wabbit):\n",
      "    Feature  Coefficient\n",
      "119   |text          0.0\n",
      "120   |text          0.0\n",
      "122   |text          0.0\n",
      "123   |text          0.0\n",
      "124   |text          0.0\n",
      "125   |text          0.0\n",
      "126   |text          0.0\n",
      "128   |text          0.0\n",
      "133   |text          0.0\n",
      "146   |text          0.0\n"
     ]
    }
   ],
   "source": [
    "# Чтение файла с весами из модели Vowpal Wabbit\n",
    "with open('train.vw', 'r') as model_file:\n",
    "    model_weights = model_file.readlines()\n",
    "\n",
    "# Извлечение имен признаков и их весов\n",
    "feature_names_vw = [line.split(' ')[1] for line in model_weights[7:]]  # Находим строки с именами признаков\n",
    "weights_vw = [float(line.split(' ')[0]) for line in model_weights[7:]]  # Находим строки с весами\n",
    "\n",
    "# Создание DataFrame для удобства сортировки\n",
    "coef_df_vw = pd.DataFrame({'Feature': feature_names_vw, 'Coefficient': weights_vw})\n",
    "\n",
    "# Сортировка по абсолютному значению коэффициента\n",
    "coef_df_sorted_vw = coef_df_vw.reindex(coef_df_vw['Coefficient'].abs().sort_values(ascending=False).index)\n",
    "\n",
    "# Вывод первых и последних 10 значений\n",
    "top_features_vw = coef_df_sorted_vw.head(10)\n",
    "bottom_features_vw = coef_df_sorted_vw.tail(10)\n",
    "\n",
    "print(\"Top 10 features (Vowpal Wabbit):\")\n",
    "print(top_features_vw)\n",
    "\n",
    "print(\"\\nBottom 10 features (Vowpal Wabbit):\")\n",
    "print(bottom_features_vw)\n"
   ]
  },
  {
   "cell_type": "markdown",
   "metadata": {},
   "source": [
    "## TF-IDF\n",
    "\n",
    "Ещё один способ работы с текстовыми данными — [TF-IDF](https://en.wikipedia.org/wiki/Tf–idf) (**T**erm **F**requency–**I**nverse **D**ocument **F**requency). Рассмотрим коллекцию текстов $D$.  Для каждого уникального слова $t$ из документа $d \\in D$ вычислим следующие величины:\n",
    "\n",
    "1. Term Frequency – количество вхождений слова в отношении к общему числу слов в тексте:\n",
    "$$\\text{tf}(t, d) = \\frac{n_{td}}{\\sum_{t \\in d} n_{td}},$$\n",
    "где $n_{td}$ — количество вхождений слова $t$ в текст $d$.\n",
    "1. Inverse Document Frequency\n",
    "$$\\text{idf}(t, D) = \\log \\frac{\\left| D \\right|}{\\left| \\{d\\in D: t \\in d\\} \\right|},$$\n",
    "где $\\left| \\{d\\in D: t \\in d\\} \\right|$ – количество текстов в коллекции, содержащих слово $t$.\n",
    "\n",
    "Тогда для каждой пары (слово, текст) $(t, d)$ вычислим величину:\n",
    "$$\\text{tf-idf}(t,d, D) = \\text{tf}(t, d)\\cdot \\text{idf}(t, D).$$\n",
    "\n",
    "Отметим, что значение $\\text{tf}(t, d)$ корректируется для часто встречающихся общеупотребимых слов при помощи значения $\\text{idf}(t, D).$\n",
    "\n",
    "Признаковым описанием одного объекта $d \\in D$ будет вектор $\\bigg(\\text{tf-idf}(t,d, D)\\bigg)_{t\\in V}$, где $V$ – словарь всех слов, встречающихся в коллекции $D$.\n",
    "\n",
    "#### 7. (0.5 балла) Создайте текстовое описание объектов обучающей и контрольной выборок, объединив значения всех признаков каждого объекта выборки через символы пробела. После этого получите признаковое описание объектов, вычислив вектор tf-idf для каждого объекта помощи [TfidfVectorizer](http://scikit-learn.org/stable/modules/generated/sklearn.feature_extraction.text.TfidfVectorizer.html), обучив его на обучающей выборке и применив на контрольной."
   ]
  },
  {
   "cell_type": "code",
   "execution_count": 75,
   "metadata": {
    "collapsed": true,
    "ExecuteTime": {
     "end_time": "2023-10-30T11:27:01.019975200Z",
     "start_time": "2023-10-30T11:26:24.765414800Z"
    }
   },
   "outputs": [],
   "source": [
    "from sklearn.feature_extraction.text import TfidfVectorizer\n",
    "\n",
    "# Объединение значений признаков через символы пробела\n",
    "X_train_text_combined = X_train.apply(lambda row: ' '.join(map(str, row)), axis=1)\n",
    "X_test_text_combined = X_test.apply(lambda row: ' '.join(map(str, row)), axis=1)\n",
    "\n",
    "# Инициализация TfidfVectorizer\n",
    "tfidf_vectorizer = TfidfVectorizer()\n",
    "\n",
    "# Обучение TfidfVectorizer на обучающей выборке и применение на контрольной\n",
    "X_train_tfidf = tfidf_vectorizer.fit_transform(X_train_text_combined)\n",
    "X_test_tfidf = tfidf_vectorizer.transform(X_test_text_combined)\n",
    "\n",
    "# X_train_tfidf - TF-IDF векторизованные обучающие данные\n",
    "# X_test_tfidf - TF-IDF векторизованные контрольные данные\n"
   ]
  },
  {
   "cell_type": "markdown",
   "metadata": {},
   "source": [
    "#### 8. (0 баллов) Обучите следующие модели на обучающей выборке:\n",
    "- [логистическую регрессию](http://scikit-learn.org/stable/modules/generated/sklearn.linear_model.LogisticRegression.html) из модуля sklearn с параметрами по умолчанию;\n",
    "- логистическую регрессию при помощи Vowpal Wabbit с параметрами по умолчанию."
   ]
  },
  {
   "cell_type": "code",
   "execution_count": 85,
   "metadata": {
    "collapsed": true,
    "ExecuteTime": {
     "end_time": "2023-10-30T11:36:38.694891900Z",
     "start_time": "2023-10-30T11:36:24.888677600Z"
    }
   },
   "outputs": [
    {
     "name": "stdout",
     "output_type": "stream",
     "text": [
      "Accuracy (Logistic Regression - scikit-learn with TF-IDF): 0.8690\n"
     ]
    },
    {
     "name": "stderr",
     "output_type": "stream",
     "text": [
      "C:\\Users\\Hetsu\\Desktop\\Python\\venv311\\Lib\\site-packages\\sklearn\\linear_model\\_logistic.py:460: ConvergenceWarning: lbfgs failed to converge (status=1):\n",
      "STOP: TOTAL NO. of ITERATIONS REACHED LIMIT.\n",
      "\n",
      "Increase the number of iterations (max_iter) or scale the data as shown in:\n",
      "    https://scikit-learn.org/stable/modules/preprocessing.html\n",
      "Please also refer to the documentation for alternative solver options:\n",
      "    https://scikit-learn.org/stable/modules/linear_model.html#logistic-regression\n",
      "  n_iter_i = _check_optimize_result(\n"
     ]
    }
   ],
   "source": [
    "from sklearn.linear_model import LogisticRegression\n",
    "from sklearn.metrics import accuracy_score\n",
    "\n",
    "# Инициализация и обучение логистической регрессии в scikit-learn\n",
    "lr_sklearn_tfidf = LogisticRegression()\n",
    "lr_sklearn_tfidf.fit(X_train_tfidf, y_train)\n",
    "\n",
    "# Предсказание на контрольной выборке\n",
    "y_pred_sklearn_tfidf = lr_sklearn_tfidf.predict(X_test_tfidf)\n",
    "\n",
    "# Оценка точности\n",
    "accuracy_sklearn_tfidf = accuracy_score(y_test, y_pred_sklearn_tfidf)\n",
    "print(f'Accuracy (Logistic Regression - scikit-learn with TF-IDF): {accuracy_sklearn_tfidf:.4f}', flush=True)\n",
    "\n",
    "pass"
   ]
  },
  {
   "cell_type": "markdown",
   "metadata": {},
   "source": [
    "#### 9. (0.5 балла) Вычислите значения ROC-AUC, [F-меры](http://scikit-learn.org/stable/modules/generated/sklearn.metrics.f1_score.html), а также постройте [матрицу ошибок](http://scikit-learn.org/stable/modules/generated/sklearn.metrics.confusion_matrix.html) для каждой из построенных в п. 8 моделей на контрольной выборке. Сравните построенные модели по качеству их работы."
   ]
  },
  {
   "cell_type": "code",
   "execution_count": null,
   "metadata": {
    "collapsed": true,
    "ExecuteTime": {
     "start_time": "2023-10-30T11:19:10.897769800Z"
    }
   },
   "outputs": [],
   "source": [
    "# Your code here"
   ]
  },
  {
   "cell_type": "markdown",
   "metadata": {},
   "source": [
    "#### 10. (0.5 балла) Сравните значения метрик из п. 9 со значениями, полученными в п. 5, и сравните соответствующие модели по качеству из работы.\n",
    "\n",
    "**Ответ**:"
   ]
  },
  {
   "cell_type": "markdown",
   "metadata": {},
   "source": [
    "#### 11. (1 балл) Отсортируйте веса признаков для модели логистической регрессии из scikit-learn, полученной в п. 8. Какие слова из встречающихся в выборке имеют наибольшее/наименьшее влияние на значение целевой переменной? Проинтерпретирйте полученный результат."
   ]
  },
  {
   "cell_type": "code",
   "execution_count": null,
   "metadata": {
    "collapsed": true,
    "ExecuteTime": {
     "start_time": "2023-10-30T11:19:10.897769800Z"
    }
   },
   "outputs": [],
   "source": [
    "# Your code here"
   ]
  },
  {
   "cell_type": "markdown",
   "metadata": {},
   "source": [
    "#### 12. (0.5 доп. балла) Отсортируйте веса признаков для модели логистической регрессии, полученной в п. 8 при помощи Vowpal Wabbit. Какие слова из встречающихся в выборке имеют наибольшее/наименьшее влияние на значение целевой переменной? Проинтерпретирйте полученный результат."
   ]
  },
  {
   "cell_type": "code",
   "execution_count": null,
   "metadata": {
    "collapsed": true,
    "ExecuteTime": {
     "start_time": "2023-10-30T11:19:10.897769800Z"
    }
   },
   "outputs": [],
   "source": [
    "# Your code here"
   ]
  },
  {
   "cell_type": "markdown",
   "metadata": {},
   "source": [
    "## Счётчики\n",
    "\n",
    "Ранее в рамках данного задания при построении моделей мы объединяли значения всех признаков в единую строку, что предполагает равноправность всех признаков. Однако заметим, что в этом случае мы допускаем потерю информации: слово \"Glasgow\" может по-разному влиять на зарплату, если оно находится в названии объявления и в геолокации. Чтобы устранить этот недостаток, при создании текстового описания объекта будем объединять только значения признаков Title и FullDescription, а остальные будем рассматривать как категориальные. При этом с полученным текстовым описанием объекта будем работать, как раньше (при помощи векторизации или tf-idf), а для кодирования категориальных признаков используем **счётчики**.\n",
    "\n",
    "Идея этого метода состоит в том, чтобы заменить значение категориального признака на вероятность того, что объект с данным значением признака относится к положительному классу. Опишем эту идею более формально. Пусть у нас есть выборка $X = \\{ (x_i, y_i) \\}_{i=1}^l,$ и $j$-ый признак принимает значения из множества $U_j = \\{ u_{jn}\\}_{n=1}^{N_j},$ где $N_j$ — количество различных значений $j$-ого признака. Пусть $x_{ij} = u_{jn},$ тогда заменим значения $j$-ого категориального признака объекта $x_i$ на следующую оценку: \n",
    "$$\\hat{P}(y_i=+1|x_{ij}=u_{jn}) = \\frac{\\sum_{m=1}^l \\left[ x_{mj} = u_{jn} \\right] \\left[ y_m = +1 \\right]}{\\sum_{m=1}^l \\left[ x_{mj} = u_{jn} \\right]}.$$\n",
    "\n",
    "Однако заметим, что при таком способе формирования счётчиков мы учитываем в формуле для объекта $x_i$ его метку $y_i$, тем самым вносим информацию об ответе в признаки. Чтобы устранить этот недостаток, при вычислении счётчика будем исключать из рассмотрения текущий объект, т.е. рассматривать следующую оценку:\n",
    "$$\\hat{P}(y_i=+1|X_{ij}=u_{jn}) = \\frac{\\sum_{m=1, \\\\ m \\ne i}^l \\left[ x_{mj} = u_{jn} \\right] \\left[ y_m = +1 \\right]}{\\sum_{m=1, \\\\ m \\ne i}^l \\left[ x_{mj} = u_{jn} \\right]},$$\n",
    "\n",
    "#### 13. (0.5 балла) Создайте текстовое описание объектов обучающей и контрольной выборок, объединив значения признаков Title и FullDescription каждого объекта выборки через символ пробела, после чего перейдите к признаковому описанию объектов, вычислив вектор tf-idf аналогично п. 7."
   ]
  },
  {
   "cell_type": "code",
   "execution_count": null,
   "metadata": {
    "collapsed": true,
    "ExecuteTime": {
     "start_time": "2023-10-30T11:19:10.897769800Z"
    }
   },
   "outputs": [],
   "source": [
    "# Your code here"
   ]
  },
  {
   "cell_type": "markdown",
   "metadata": {},
   "source": [
    "#### 14. (1 балл) Закодируйте категориальные признаки (все, кроме Title и FullDescription) при помощи [one-hot encoding](http://scikit-learn.org/stable/modules/generated/sklearn.preprocessing.OneHotEncoder.html), после чего обучите логистическую регрессию (при помощи scikit-learn или Vowpal Wabbit) на обучающей выборке. Вычислите значения ROC-AUC, [F-меры](http://scikit-learn.org/stable/modules/generated/sklearn.metrics.f1_score.html), а также постройте [матрицу ошибок](http://scikit-learn.org/stable/modules/generated/sklearn.metrics.confusion_matrix.html) для полученной модели на контрольной выборке. "
   ]
  },
  {
   "cell_type": "code",
   "execution_count": null,
   "metadata": {
    "collapsed": true,
    "ExecuteTime": {
     "start_time": "2023-10-30T11:19:10.913555200Z"
    }
   },
   "outputs": [],
   "source": [
    "# Your code here"
   ]
  },
  {
   "cell_type": "markdown",
   "metadata": {},
   "source": [
    "#### 15. (2 балла) Для выборки, полученной в п. 13, закодируйте категориальные признаки (все, кроме Title и FullDescription) при помощи счётчиков, после чего обучите логистическую регрессию (при помощи scikit-learn или Vowpal Wabbit) на обучающей выборке. Вычислите значения ROC-AUC, [F-меры](http://scikit-learn.org/stable/modules/generated/sklearn.metrics.f1_score.html), а также постройте [матрицу ошибок](http://scikit-learn.org/stable/modules/generated/sklearn.metrics.confusion_matrix.html) для полученной модели на контрольной выборке. \n",
    "\n",
    "Уделите внимание оптимальности вычисления счётчиков!"
   ]
  },
  {
   "cell_type": "code",
   "execution_count": null,
   "metadata": {
    "collapsed": true,
    "ExecuteTime": {
     "start_time": "2023-10-30T11:19:10.913555200Z"
    }
   },
   "outputs": [],
   "source": [
    "# Your code here"
   ]
  },
  {
   "cell_type": "markdown",
   "metadata": {},
   "source": [
    "#### 16. (0.5 балла) Сравните значения метрик из п. 15 со значениями, полученными в п. 14, и сделайте вывод о качестве классификации для каждого из методов кодирования категориальных признаков.\n",
    "\n",
    "**Ответ:**"
   ]
  },
  {
   "cell_type": "markdown",
   "metadata": {},
   "source": [
    "## Подбор гиперпараметров\n",
    "\n",
    "#### 17. (1.5 доп. балла) Разбейте обучающую выборку, полученную в п. 13, на обучающую и валидационную в отношении 80/20, после чего подберите оптимальное количество фолдов, используемое при кодировании категориальных признаков (всех, кроме Title и FullDescription), путём оптимизации значения accuracy на валидационной выборке. Используйте следующие модели, аналогично также подобрав оптимальные значения указанных гиперпараметров:\n",
    "- логистическую регрессию из модуля sklearn с подбором коэффициента регуляризации;\n",
    "- логистическую регрессию при помощи Vowpal Wabbit с подбором следующих гиперпараметров:\n",
    "    - коэффициент регуляризации (--l2);\n",
    "    - количество эпох (--passes);\n",
    "    - длина градиентного шага (-l);\n",
    "    - длина N-грамм (--ngram)."
   ]
  },
  {
   "cell_type": "code",
   "execution_count": null,
   "metadata": {
    "collapsed": true,
    "ExecuteTime": {
     "start_time": "2023-10-30T11:19:10.913555200Z"
    }
   },
   "outputs": [],
   "source": [
    "# Your code here"
   ]
  },
  {
   "cell_type": "markdown",
   "metadata": {},
   "source": [
    "#### 18. (0.5 доп. балла) Обучите указанные выше модели на обучающей выборке для оптимальных значений гиперпараметров, найденных в п. 17, после чего для каждой из моделей вычислите значения ROC-AUC, F-меры, а также постройте матрицу ошибок на контрольной выборке. Как качество классификации при помощи полученных в данном разделе моделей соотносится с моделями, полученными в предыдущих разделах?"
   ]
  },
  {
   "cell_type": "code",
   "execution_count": null,
   "metadata": {
    "collapsed": true,
    "ExecuteTime": {
     "start_time": "2023-10-30T11:19:10.913555200Z"
    }
   },
   "outputs": [],
   "source": [
    "# Your code here"
   ]
  },
  {
   "cell_type": "markdown",
   "metadata": {},
   "source": [
    "Здесь вы можете поделиться своими мыслями по поводу этого задания."
   ]
  },
  {
   "cell_type": "raw",
   "metadata": {},
   "source": []
  },
  {
   "cell_type": "markdown",
   "metadata": {},
   "source": [
    "А здесь — вставить вашу вторую любимую смешную картинку."
   ]
  },
  {
   "cell_type": "raw",
   "metadata": {},
   "source": []
  },
  {
   "cell_type": "markdown",
   "metadata": {},
   "source": [
    "А здесь — посоветовать преподавателям хороший фильм или сериал."
   ]
  },
  {
   "cell_type": "markdown",
   "metadata": {},
   "source": []
  }
 ],
 "metadata": {
  "kernelspec": {
   "name": "python3",
   "language": "python",
   "display_name": "Python 3 (ipykernel)"
  },
  "language_info": {
   "codemirror_mode": {
    "name": "ipython",
    "version": 2
   },
   "file_extension": ".py",
   "mimetype": "text/x-python",
   "name": "python",
   "nbconvert_exporter": "python",
   "pygments_lexer": "ipython2",
   "version": "2.7.10"
  }
 },
 "nbformat": 4,
 "nbformat_minor": 0
}
